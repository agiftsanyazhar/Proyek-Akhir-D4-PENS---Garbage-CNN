{
 "cells": [
  {
   "cell_type": "code",
   "execution_count": 7,
   "metadata": {},
   "outputs": [],
   "source": [
    "import numpy as np\n",
    "import cv2\n",
    "import pickle\n",
    "from tensorflow.keras.models import load_model"
   ]
  },
  {
   "cell_type": "code",
   "execution_count": 8,
   "metadata": {},
   "outputs": [],
   "source": [
    "frame_width = 640\n",
    "frame_height = 480\n",
    "brightness = 120\n",
    "threshold = 0.00\n",
    "font = cv2.FONT_HERSHEY_SIMPLEX"
   ]
  },
  {
   "cell_type": "code",
   "execution_count": 9,
   "metadata": {},
   "outputs": [
    {
     "data": {
      "text/plain": [
       "True"
      ]
     },
     "execution_count": 9,
     "metadata": {},
     "output_type": "execute_result"
    }
   ],
   "source": [
    "cap = cv2.VideoCapture(0)\n",
    "cap.set(3, frame_width)\n",
    "cap.set(4, frame_height)\n",
    "cap.set(10, brightness)"
   ]
  },
  {
   "cell_type": "code",
   "execution_count": 10,
   "metadata": {},
   "outputs": [],
   "source": [
    "# model = load_model(\"garbage_with_preprocessing_model.h5\")\n",
    "model = load_model(\"people_garbage_with_preprocessing_model.h5\")"
   ]
  },
  {
   "cell_type": "code",
   "execution_count": 11,
   "metadata": {},
   "outputs": [],
   "source": [
    "def grayscale(img):\n",
    "    img = cv2.cvtColor(img, cv2.COLOR_BGR2GRAY)\n",
    "    return img\n",
    "\n",
    "\n",
    "def equalize(img):\n",
    "    img = cv2.equalizeHist(img)\n",
    "    return img\n",
    "\n",
    "\n",
    "def preprocessing(img):\n",
    "    img = grayscale(img)\n",
    "    img = equalize(img)\n",
    "    img = img / 255\n",
    "    return img\n",
    "\n",
    "\n",
    "def getClassName(class_no):\n",
    "    classes = [\n",
    "        \"Not Littering\",\n",
    "        \"Littering\",\n",
    "    ]\n",
    "    return classes[class_no] if 0 <= class_no < len(classes) else \"Unknown\""
   ]
  },
  {
   "cell_type": "code",
   "execution_count": 12,
   "metadata": {},
   "outputs": [],
   "source": [
    "while True:\n",
    "\n",
    "    success, img_original = cap.read()\n",
    "\n",
    "    if not success:\n",
    "        break\n",
    "\n",
    "    img = np.asarray(img_original)\n",
    "    # img = cv2.resize(img, (128, 128))\n",
    "    img = cv2.resize(img, (72, 128))\n",
    "    img = preprocessing(img)\n",
    "\n",
    "    cv2.imshow(\"Processed Image\", img)\n",
    "    # img = img.reshape(1, 128, 128, 1)\n",
    "    img = img.reshape(1, 72, 128, 1)\n",
    "\n",
    "    cv2.putText(\n",
    "        img_original, \"Class: \", (20, 35), font, 0.75, (0, 0, 255), 2, cv2.LINE_AA\n",
    "    )\n",
    "    cv2.putText(\n",
    "        img_original, \"Score: \", (20, 75), font, 0.75, (0, 0, 255), 2, cv2.LINE_AA\n",
    "    )\n",
    "\n",
    "    predictions = model.predict(img)\n",
    "    class_index = np.argmax(predictions)\n",
    "    probability_value = np.amax(predictions)\n",
    "\n",
    "    if probability_value > threshold:\n",
    "        label = str(getClassName(class_index))\n",
    "        score = str(round(probability_value, 2))\n",
    "\n",
    "        cv2.putText(\n",
    "            img_original,\n",
    "            f\"Class: {label}\",\n",
    "            (20, 35),\n",
    "            font,\n",
    "            0.75,\n",
    "            (0, 0, 255),\n",
    "            2,\n",
    "            cv2.LINE_AA,\n",
    "        )\n",
    "        cv2.putText(\n",
    "            img_original,\n",
    "            f\"Score: {score}\",\n",
    "            (20, 75),\n",
    "            font,\n",
    "            0.75,\n",
    "            (0, 0, 255),\n",
    "            2,\n",
    "            cv2.LINE_AA,\n",
    "        )\n",
    "    cv2.imshow(\"Result\", img_original)\n",
    "\n",
    "    if cv2.waitKey(1) & 0xFF == ord(\"q\"):\n",
    "        break\n",
    "\n",
    "cap.release()\n",
    "cv2.destroyAllWindows()"
   ]
  }
 ],
 "metadata": {
  "kernelspec": {
   "display_name": ".venv",
   "language": "python",
   "name": "python3"
  },
  "language_info": {
   "codemirror_mode": {
    "name": "ipython",
    "version": 3
   },
   "file_extension": ".py",
   "mimetype": "text/x-python",
   "name": "python",
   "nbconvert_exporter": "python",
   "pygments_lexer": "ipython3",
   "version": "3.9.13"
  },
  "orig_nbformat": 4
 },
 "nbformat": 4,
 "nbformat_minor": 2
}
